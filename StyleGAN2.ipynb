{
 "metadata": {
  "language_info": {
   "codemirror_mode": {
    "name": "ipython",
    "version": 3
   },
   "file_extension": ".py",
   "mimetype": "text/x-python",
   "name": "python",
   "nbconvert_exporter": "python",
   "pygments_lexer": "ipython3",
   "version": "3.6.12-final"
  },
  "orig_nbformat": 2,
  "kernelspec": {
   "name": "python3",
   "display_name": "Python 3",
   "language": "python"
  }
 },
 "nbformat": 4,
 "nbformat_minor": 2,
 "cells": [
  {
   "source": [
    "# StyleGAN2"
   ],
   "cell_type": "markdown",
   "metadata": {}
  },
  {
   "cell_type": "code",
   "execution_count": 1,
   "metadata": {},
   "outputs": [],
   "source": [
    "from IPython.display import HTML, display, Video\n",
    "\n",
    "def img(src, size=256):\n",
    "    return HTML(f\"<img style='width: {size}px; height: {size}px; float: left; margin: 5px;' src='{src}'/>\")"
   ]
  },
  {
   "source": [
    "## Project image to Z space\n",
    "This will take some time, ~5 minutes per image."
   ],
   "cell_type": "markdown",
   "metadata": {}
  },
  {
   "cell_type": "code",
   "execution_count": null,
   "metadata": {},
   "outputs": [],
   "source": [
    "!tools/stylegan2-projector.sh --outdir=datasets/sample/out/db  --seed=14 --target=datasets/sample/db.jpg\n",
    "!tools/stylegan2-projector.sh --outdir=datasets/sample/out/db-bearded  --seed=14 --target=datasets/sample/db-bearded.jpg\n",
    "!tools/stylegan2-projector.sh --outdir=datasets/sample/out/vb  --seed=14 --target=datasets/sample/vb.jpg\n",
    "!tools/stylegan2-projector.sh --outdir=datasets/sample/out/vb-blue  --seed=14 --target=datasets/sample/vb-blue.jpg\n",
    "!tools/stylegan2-projector.sh --outdir=datasets/sample/out/bb  --seed=14 --target=datasets/sample/bb.jpg\n",
    "!tools/stylegan2-projector.sh --outdir=datasets/sample/out/bb-glasses  --seed=14 --target=datasets/sample/bb-glasses.jpg"
   ]
  },
  {
   "source": [
    "## Vizualization\n",
    "Left to right: original, original projection, edited original, edited projection "
   ],
   "cell_type": "markdown",
   "metadata": {}
  },
  {
   "cell_type": "code",
   "execution_count": 2,
   "metadata": {},
   "outputs": [
    {
     "output_type": "display_data",
     "data": {
      "text/plain": "<IPython.core.display.HTML object>",
      "text/html": "<img style='width: 256px; height: 256px; float: left; margin: 5px;' src='datasets/sample/db.jpg'/>"
     },
     "metadata": {}
    },
    {
     "output_type": "display_data",
     "data": {
      "text/plain": "<IPython.core.display.HTML object>",
      "text/html": "<img style='width: 256px; height: 256px; float: left; margin: 5px;' src='datasets/sample/out/db/proj.png'/>"
     },
     "metadata": {}
    },
    {
     "output_type": "display_data",
     "data": {
      "text/plain": "<IPython.core.display.HTML object>",
      "text/html": "<img style='width: 256px; height: 256px; float: left; margin: 5px;' src='datasets/sample/db-bearded.jpg'/>"
     },
     "metadata": {}
    },
    {
     "output_type": "display_data",
     "data": {
      "text/plain": "<IPython.core.display.HTML object>",
      "text/html": "<img style='width: 256px; height: 256px; float: left; margin: 5px;' src='datasets/sample/out/db-bearded/proj.png'/>"
     },
     "metadata": {}
    }
   ],
   "source": [
    "display(img(\"datasets/sample/db.jpg\"), img(\"datasets/sample/out/db/proj.png\"), img(\"datasets/sample/db-bearded.jpg\"), img(\"datasets/sample/out/db-bearded/proj.png\"))"
   ]
  },
  {
   "cell_type": "code",
   "execution_count": 3,
   "metadata": {},
   "outputs": [
    {
     "output_type": "display_data",
     "data": {
      "text/plain": "<IPython.core.display.HTML object>",
      "text/html": "<img style='width: 256px; height: 256px; float: left; margin: 5px;' src='datasets/sample/vb.jpg'/>"
     },
     "metadata": {}
    },
    {
     "output_type": "display_data",
     "data": {
      "text/plain": "<IPython.core.display.HTML object>",
      "text/html": "<img style='width: 256px; height: 256px; float: left; margin: 5px;' src='datasets/sample/out/vb/proj.png'/>"
     },
     "metadata": {}
    },
    {
     "output_type": "display_data",
     "data": {
      "text/plain": "<IPython.core.display.HTML object>",
      "text/html": "<img style='width: 256px; height: 256px; float: left; margin: 5px;' src='datasets/sample/vb-blue.jpg'/>"
     },
     "metadata": {}
    },
    {
     "output_type": "display_data",
     "data": {
      "text/plain": "<IPython.core.display.HTML object>",
      "text/html": "<img style='width: 256px; height: 256px; float: left; margin: 5px;' src='datasets/sample/out/vb-blue/proj.png'/>"
     },
     "metadata": {}
    }
   ],
   "source": [
    "display(img(\"datasets/sample/vb.jpg\"), img(\"datasets/sample/out/vb/proj.png\"), img(\"datasets/sample/vb-blue.jpg\"), img(\"datasets/sample/out/vb-blue/proj.png\"))"
   ]
  },
  {
   "cell_type": "code",
   "execution_count": 4,
   "metadata": {},
   "outputs": [
    {
     "output_type": "display_data",
     "data": {
      "text/plain": "<IPython.core.display.HTML object>",
      "text/html": "<img style='width: 256px; height: 256px; float: left; margin: 5px;' src='datasets/sample/bb.jpg'/>"
     },
     "metadata": {}
    },
    {
     "output_type": "display_data",
     "data": {
      "text/plain": "<IPython.core.display.HTML object>",
      "text/html": "<img style='width: 256px; height: 256px; float: left; margin: 5px;' src='datasets/sample/out/bb/proj.png'/>"
     },
     "metadata": {}
    },
    {
     "output_type": "display_data",
     "data": {
      "text/plain": "<IPython.core.display.HTML object>",
      "text/html": "<img style='width: 256px; height: 256px; float: left; margin: 5px;' src='datasets/sample/bb-glasses.jpg'/>"
     },
     "metadata": {}
    },
    {
     "output_type": "display_data",
     "data": {
      "text/plain": "<IPython.core.display.HTML object>",
      "text/html": "<img style='width: 256px; height: 256px; float: left; margin: 5px;' src='datasets/sample/out/bb-glasses/proj.png'/>"
     },
     "metadata": {}
    }
   ],
   "source": [
    "display(img(\"datasets/sample/bb.jpg\"), img(\"datasets/sample/out/bb/proj.png\"), img(\"datasets/sample/bb-glasses.jpg\"), img(\"datasets/sample/out/bb-glasses/proj.png\"))"
   ]
  },
  {
   "cell_type": "code",
   "execution_count": 5,
   "metadata": {},
   "outputs": [
    {
     "output_type": "execute_result",
     "data": {
      "text/plain": [
       "<IPython.core.display.Video object>"
      ],
      "text/html": "<video src=\"datasets/sample/out/db-bearded/proj.mp4\" controls  >\n      Your browser does not support the <code>video</code> element.\n    </video>"
     },
     "metadata": {},
     "execution_count": 5
    }
   ],
   "source": [
    "Video(\"datasets/sample/out/db-bearded/proj.mp4\")"
   ]
  },
  {
   "cell_type": "code",
   "execution_count": 6,
   "metadata": {},
   "outputs": [
    {
     "output_type": "execute_result",
     "data": {
      "text/plain": [
       "<IPython.core.display.Video object>"
      ],
      "text/html": "<video src=\"datasets/sample/out/vb-blue/proj.mp4\" controls  >\n      Your browser does not support the <code>video</code> element.\n    </video>"
     },
     "metadata": {},
     "execution_count": 6
    }
   ],
   "source": [
    "Video(\"datasets/sample/out/vb-blue/proj.mp4\")"
   ]
  },
  {
   "cell_type": "code",
   "execution_count": 7,
   "metadata": {},
   "outputs": [
    {
     "output_type": "execute_result",
     "data": {
      "text/plain": [
       "<IPython.core.display.Video object>"
      ],
      "text/html": "<video src=\"datasets/sample/out/bb-glasses/proj.mp4\" controls  >\n      Your browser does not support the <code>video</code> element.\n    </video>"
     },
     "metadata": {},
     "execution_count": 7
    }
   ],
   "source": [
    "Video(\"datasets/sample/out/bb-glasses/proj.mp4\")"
   ]
  },
  {
   "source": [
    "## Cleanup"
   ],
   "cell_type": "markdown",
   "metadata": {}
  },
  {
   "cell_type": "code",
   "execution_count": 8,
   "metadata": {},
   "outputs": [],
   "source": [
    "%reset"
   ]
  }
 ]
}