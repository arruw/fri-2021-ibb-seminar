{
 "cells": [
  {
   "cell_type": "markdown",
   "metadata": {},
   "source": [
    "# StyleGAN2"
   ]
  },
  {
   "cell_type": "code",
   "execution_count": null,
   "metadata": {},
   "outputs": [],
   "source": [
    "import cv2\n",
    "import matplotlib.pyplot as plt\n",
    "from PIL import Image\n",
    "\n",
    "def show_images(images, rows, cols, save_path=None):\n",
    "    _, axs = plt.subplots(rows, cols, figsize=(24, 10), tight_layout=True)\n",
    "    for i, ax in enumerate(axs.flatten()):\n",
    "        ax.imshow(images[i])\n",
    "        ax.get_xaxis().set_visible(False)\n",
    "        ax.get_yaxis().set_visible(False)\n",
    "\n",
    "    if save_path is not None:\n",
    "        plt.savefig(save_path)\n",
    "    \n",
    "    plt.show()\n",
    "\n",
    "def extract_video_frames(path, step=100, skip=0):\n",
    "    images = []\n",
    "    video = cv2.VideoCapture(path)\n",
    "    index = 0\n",
    "    while True:\n",
    "        ret, frame = video.read()\n",
    "        if not ret: break\n",
    "\n",
    "        if index >= skip and index % step == 0:\n",
    "            img = Image.fromarray(cv2.cvtColor(frame,cv2.COLOR_BGR2RGB))\n",
    "            img = img.crop((1024,0,2048,1024))\n",
    "            img = img.resize((256,256))\n",
    "            images += [img]\n",
    "\n",
    "        index += 1\n",
    "\n",
    "    video.release()\n",
    "\n",
    "    return images"
   ]
  },
  {
   "cell_type": "markdown",
   "metadata": {},
   "source": [
    "## Project image to Z space\n",
    "This will take some time, ~5 minutes per image."
   ]
  },
  {
   "cell_type": "code",
   "execution_count": null,
   "metadata": {},
   "outputs": [],
   "source": [
    "!tools/stylegan2-projector.sh --outdir=datasets/sample/out/db  --seed=14 --target=datasets/sample/db.jpg\n",
    "!tools/stylegan2-projector.sh --outdir=datasets/sample/out/db-bearded  --seed=14 --target=datasets/sample/db-bearded.jpg\n",
    "!tools/stylegan2-projector.sh --outdir=datasets/sample/out/vb  --seed=14 --target=datasets/sample/vb.jpg\n",
    "!tools/stylegan2-projector.sh --outdir=datasets/sample/out/vb-blue  --seed=14 --target=datasets/sample/vb-blue.jpg\n",
    "!tools/stylegan2-projector.sh --outdir=datasets/sample/out/bb  --seed=14 --target=datasets/sample/bb.jpg\n",
    "!tools/stylegan2-projector.sh --outdir=datasets/sample/out/bb-glasses  --seed=14 --target=datasets/sample/bb-glasses.jpg"
   ]
  },
  {
   "cell_type": "markdown",
   "metadata": {},
   "source": [
    "## Vizualization"
   ]
  },
  {
   "cell_type": "code",
   "execution_count": null,
   "metadata": {},
   "outputs": [],
   "source": [
    "images = [\n",
    "    Image.open(\"datasets/sample/db.jpg\").resize((256,256)),\n",
    "    Image.open(\"datasets/sample/out/db/proj.png\").resize((256,256)),\n",
    "    Image.open(\"datasets/sample/db-bearded.jpg\").resize((256,256))\n",
    "]\n",
    "images += extract_video_frames(\"datasets/sample/out/db-bearded/proj.mp4\", step=200)\n",
    "\n",
    "images += [\n",
    "    Image.open(\"datasets/sample/vb.jpg\").resize((256,256)),\n",
    "    Image.open(\"datasets/sample/out/vb/proj.png\").resize((256,256)),\n",
    "    Image.open(\"datasets/sample/vb-blue.jpg\").resize((256,256))\n",
    "]\n",
    "images += extract_video_frames(\"datasets/sample/out/vb-blue/proj.mp4\", step=200)\n",
    "\n",
    "images += [\n",
    "    Image.open(\"datasets/sample/bb.jpg\").resize((256,256)),\n",
    "    Image.open(\"datasets/sample/out/bb/proj.png\").resize((256,256)),\n",
    "    Image.open(\"datasets/sample/bb-glasses.jpg\").resize((256,256))\n",
    "]\n",
    "images += extract_video_frames(\"datasets/sample/out/bb-glasses/proj.mp4\", step=200)"
   ]
  },
  {
   "cell_type": "code",
   "execution_count": null,
   "metadata": {},
   "outputs": [],
   "source": [
    "show_images(images, 3, 8, save_path=\"./figures/StyleGAN2_Projections_Paintings.pdf\")\n",
    "del images\n"
   ]
  },
  {
   "cell_type": "code",
   "execution_count": null,
   "metadata": {},
   "outputs": [],
   "source": [
    "images2 = []\n",
    "\n",
    "images2 += extract_video_frames(\"datasets/sample/out/db-bearded/proj.mp4\", step=25)[0:8]\n",
    "images2 += extract_video_frames(\"datasets/sample/out/vb-blue/proj.mp4\", step=25)[0:8]\n",
    "images2 += extract_video_frames(\"datasets/sample/out/bb-glasses/proj.mp4\", step=25)[0:8]\n"
   ]
  },
  {
   "cell_type": "code",
   "execution_count": null,
   "metadata": {},
   "outputs": [],
   "source": [
    "show_images(images2, 3, 8, save_path=\"./figures/StyleGAN2_Projections_Early_Steps.pdf\")\n",
    "del images2"
   ]
  }
 ],
 "metadata": {
  "kernelspec": {
   "display_name": "Python 3",
   "language": "python",
   "name": "python3"
  },
  "language_info": {
   "codemirror_mode": {
    "name": "ipython",
    "version": 3
   },
   "file_extension": ".py",
   "mimetype": "text/x-python",
   "name": "python",
   "nbconvert_exporter": "python",
   "pygments_lexer": "ipython3",
   "version": "3.6.12-final"
  }
 },
 "nbformat": 4,
 "nbformat_minor": 2
}
